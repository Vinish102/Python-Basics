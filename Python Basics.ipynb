{
 "cells": [
  {
   "cell_type": "markdown",
   "id": "9960bc1d",
   "metadata": {},
   "source": [
    "# Python Basics"
   ]
  },
  {
   "cell_type": "code",
   "execution_count": 1,
   "id": "a14759ec",
   "metadata": {},
   "outputs": [
    {
     "name": "stdout",
     "output_type": "stream",
     "text": [
      "Features that make Python a popular choice for programming are:\n",
      "1) Readability.\n",
      "2) Wide use in the industry.\n",
      "3) Most suitable for data-related fields.\n",
      "4) Optimized and well-written code present in the form of libraries for usability.\n",
      "5) Easy to learn and implement.\n",
      "6) Active community that contributes to optimize and enhance the Python language.\n",
      "7) Utility expands to automation, image processing, analytics, frontend and backend development, etc.\n",
      "8) It is an interpreted language, making it easier to debug and enhance the development cycle.\n"
     ]
    }
   ],
   "source": [
    "# Question 1: Explain the key features of Python that make it a popular choice for programming ?\n",
    "features = \"Features that make Python a popular choice for programming are:\\n\" + \\\n",
    "            \"1) Readability.\\n\" + \\\n",
    "            \"2) Wide use in the industry.\\n\" + \\\n",
    "            \"3) Most suitable for data-related fields.\\n\" + \\\n",
    "            \"4) Optimized and well-written code present in the form of libraries for usability.\\n\" + \\\n",
    "            \"5) Easy to learn and implement.\\n\" + \\\n",
    "            \"6) Active community that contributes to optimize and enhance the Python language.\\n\" + \\\n",
    "            \"7) Utility expands to automation, image processing, analytics, frontend and backend development, etc.\\n\" + \\\n",
    "            \"8) It is an interpreted language, making it easier to debug and enhance the development cycle.\"\n",
    "\n",
    "print(features)"
   ]
  },
  {
   "cell_type": "code",
   "execution_count": 2,
   "id": "7bc1b16d",
   "metadata": {},
   "outputs": [
    {
     "name": "stdout",
     "output_type": "stream",
     "text": [
      "0\n",
      "1\n",
      "2\n",
      "3\n",
      "4\n",
      "5\n",
      "6\n",
      "7\n"
     ]
    }
   ],
   "source": [
    "#Question 2: Describe the role of predefined keywords in Python and provide examples of how they are used in a program ?\n",
    "\"\"\"\n",
    "Ans: Role of Predefined keywords in Python:\n",
    "     1) They hold a special purpose in python language.\n",
    "     2) They are used to perform a specific task in python language.\n",
    "     3) They are used to create logic in code.\n",
    "     4) They are used to maintain control flow in the code.\n",
    "\n",
    "\"\"\"\n",
    "# Predefined keywords can be used in various ways:\n",
    "# 1) Control Flow\n",
    "for i in range(8):\n",
    "    print(i)\n",
    "    "
   ]
  },
  {
   "cell_type": "code",
   "execution_count": 3,
   "id": "cabd3987",
   "metadata": {},
   "outputs": [
    {
     "name": "stdout",
     "output_type": "stream",
     "text": [
      "0\n",
      "1\n",
      "2\n",
      "4\n",
      "5\n"
     ]
    }
   ],
   "source": [
    "for i in range(6):\n",
    "    if i ==3:\n",
    "        continue\n",
    "    print(i)"
   ]
  },
  {
   "cell_type": "code",
   "execution_count": 4,
   "id": "d59b1697",
   "metadata": {},
   "outputs": [
    {
     "name": "stdout",
     "output_type": "stream",
     "text": [
      "Can do better\n"
     ]
    }
   ],
   "source": [
    "i = 5\n",
    "\n",
    "if i == 6:\n",
    "    print(\"Average\")\n",
    "elif i >=7 and i <=9:\n",
    "    print(\"Good\")\n",
    "elif i == 10:\n",
    "    print(\"Excellent\")\n",
    "else:\n",
    "    print(\"Can do better\")"
   ]
  },
  {
   "cell_type": "code",
   "execution_count": 5,
   "id": "aa4a0e37",
   "metadata": {},
   "outputs": [
    {
     "name": "stdout",
     "output_type": "stream",
     "text": [
      "Value is None\n"
     ]
    }
   ],
   "source": [
    "# 2) Data Handling\n",
    "is_available = True\n",
    "not_available = False\n",
    "value = None\n",
    "\n",
    "if value is None:\n",
    "    print(\"Value is None\")"
   ]
  },
  {
   "cell_type": "code",
   "execution_count": 6,
   "id": "65e6bf30",
   "metadata": {},
   "outputs": [
    {
     "name": "stdout",
     "output_type": "stream",
     "text": [
      "True\n"
     ]
    }
   ],
   "source": [
    "# 3) Logical Operators\n",
    "a = 5\n",
    "b = 10\n",
    "result = (a < b) and (b > 5) \n",
    "print(result)"
   ]
  },
  {
   "cell_type": "code",
   "execution_count": 7,
   "id": "124b0695",
   "metadata": {},
   "outputs": [
    {
     "name": "stdout",
     "output_type": "stream",
     "text": [
      "False\n"
     ]
    }
   ],
   "source": [
    "# 4) Comparison Operators\n",
    "print(a is b)  "
   ]
  },
  {
   "cell_type": "code",
   "execution_count": 8,
   "id": "eb807567",
   "metadata": {},
   "outputs": [
    {
     "ename": "TypeError",
     "evalue": "'tuple' object does not support item assignment",
     "output_type": "error",
     "traceback": [
      "\u001b[1;31m---------------------------------------------------------------------------\u001b[0m",
      "\u001b[1;31mTypeError\u001b[0m                                 Traceback (most recent call last)",
      "Cell \u001b[1;32mIn[8], line 35\u001b[0m\n\u001b[0;32m     33\u001b[0m \u001b[38;5;66;03m# Immutable object (tuple)\u001b[39;00m\n\u001b[0;32m     34\u001b[0m my_tuple \u001b[38;5;241m=\u001b[39m (\u001b[38;5;241m1\u001b[39m, \u001b[38;5;241m2\u001b[39m, \u001b[38;5;241m3\u001b[39m)\n\u001b[1;32m---> 35\u001b[0m my_tuple[\u001b[38;5;241m0\u001b[39m] \u001b[38;5;241m=\u001b[39m \u001b[38;5;241m10\u001b[39m\n",
      "\u001b[1;31mTypeError\u001b[0m: 'tuple' object does not support item assignment"
     ]
    }
   ],
   "source": [
    "# Question 3: Compare and contrast mutable and immutable objects in Python with examples ?\n",
    "\"\"\"\n",
    "Ans: 1) Mutable Objects are objects whose values can be changed after creation without changing their identity.\n",
    "     2) Immutable Objects are objects that don't allow changes to their values after creation.\n",
    "     * Mutable Data Types in Python:\n",
    "       Lists\n",
    "       Dictionaries\n",
    "       Sets\n",
    "     * Immutable Data Types in Python:\n",
    "       Integers\n",
    "       Floats\n",
    "       Strings\n",
    "       Tuples\n",
    "       Boolean\n",
    "       Decimal \n",
    "       \n",
    "     * Key Characteristics\n",
    "     i) Mutable Objects:\n",
    "        Can be modified after creation\n",
    "        Typically used to store collections of data\n",
    "        Can change their internal state \n",
    "        When passed to functions, they are passed by reference and can be modified within the function \n",
    "     ii)Immutable Objects:\n",
    "        Cannot be modified after creation\n",
    "        Should be used for values that need to remain constant\n",
    "        Create a new object when attempting to modify\n",
    "        \n",
    "\"\"\"\n",
    "# Mutable object (list)\n",
    "my_list = [1, 2, 3]\n",
    "my_list[0] = 10  # This works because lists are mutable\n",
    "\n",
    "# Immutable object (tuple)\n",
    "my_tuple = (1, 2, 3)\n",
    "my_tuple[0] = 10  # This raises an error because tuples are immutable"
   ]
  },
  {
   "cell_type": "code",
   "execution_count": 9,
   "id": "31515c68",
   "metadata": {},
   "outputs": [
    {
     "name": "stdout",
     "output_type": "stream",
     "text": [
      "13\n",
      "7\n",
      "30\n",
      "3.3333333333333335\n",
      "1\n",
      "1000\n",
      "3\n"
     ]
    }
   ],
   "source": [
    "# Question 4: Discuss the different types of operators in Python and provide examples of how they are used ?\n",
    "\n",
    "\"\"\"\n",
    "1. Arithmetic Operators\n",
    "These operators perform mathematical operations\n",
    "\"\"\"\n",
    "# Basic arithmetic\n",
    "a = 10\n",
    "b = 3\n",
    "print(a + b)  # Addition: 13\n",
    "print(a - b)  # Subtraction: 7\n",
    "print(a * b)  # Multiplication: 30\n",
    "print(a / b)  # Division: 3.333...\n",
    "print(a % b)  # Modulus: 1\n",
    "print(a ** b) # Exponentiation: 1000\n",
    "print(a // b) # Floor division: 3"
   ]
  },
  {
   "cell_type": "code",
   "execution_count": 10,
   "id": "8df353c7",
   "metadata": {},
   "outputs": [
    {
     "name": "stdout",
     "output_type": "stream",
     "text": [
      "True\n",
      "False\n",
      "False\n",
      "True\n",
      "True\n",
      "False\n"
     ]
    }
   ],
   "source": [
    "\"\"\"\n",
    "2. Comparison Operators\n",
    "Used to compare values:\n",
    "\"\"\"\n",
    "a = 5\n",
    "b = 3\n",
    "print(a > b)   # Greater than: True\n",
    "print(a < b)   # Less than: False\n",
    "print(a == b)  # Equal to: False\n",
    "print(a != b)  # Not equal to: True\n",
    "print(a >= b)  # Greater than or equal to: True\n",
    "print(a <= b)  # Less than or equal to: False"
   ]
  },
  {
   "cell_type": "code",
   "execution_count": 11,
   "id": "3c68cdd0",
   "metadata": {},
   "outputs": [
    {
     "name": "stdout",
     "output_type": "stream",
     "text": [
      "False\n",
      "True\n",
      "False\n"
     ]
    }
   ],
   "source": [
    "\"\"\"\n",
    "3. Logical Operators\n",
    "Used to combine conditional statements:\n",
    "\"\"\"\n",
    "x = True\n",
    "y = False\n",
    "print(x and y)  # False\n",
    "print(x or y)   # True\n",
    "print(not x)    # False"
   ]
  },
  {
   "cell_type": "code",
   "execution_count": 12,
   "id": "b20fb9c0",
   "metadata": {},
   "outputs": [
    {
     "name": "stdout",
     "output_type": "stream",
     "text": [
      "12\n",
      "61\n",
      "49\n",
      "-61\n",
      "240\n",
      "15\n"
     ]
    }
   ],
   "source": [
    "\"\"\"\n",
    "4. Bitwise Operators\n",
    "Used to perform operations on bits\n",
    "\"\"\"\n",
    "a = 60  # 60 = 0011 1100 \n",
    "b = 13  # 13 = 0000 1101\n",
    "print(a & b)   # AND\n",
    "print(a | b)   # OR\n",
    "print(a ^ b)   # XOR\n",
    "print(~a)      # NOT\n",
    "print(a << 2)  # Left shift\n",
    "print(a >> 2)  # Right shift"
   ]
  },
  {
   "cell_type": "code",
   "execution_count": 13,
   "id": "9f3bf93d",
   "metadata": {},
   "outputs": [],
   "source": [
    "\"\"\"\n",
    "5. Assignment Operators\n",
    "Used to assign values to variables:\n",
    "\"\"\"\n",
    "x = 5       # Simple assignment\n",
    "x += 3      # x = x + 3\n",
    "x -= 2      # x = x - 2\n",
    "x *= 4      # x = x * 4\n",
    "x /= 2      # x = x / 2"
   ]
  },
  {
   "cell_type": "code",
   "execution_count": 14,
   "id": "8cb815cc",
   "metadata": {},
   "outputs": [
    {
     "name": "stdout",
     "output_type": "stream",
     "text": [
      "True\n",
      "True\n"
     ]
    }
   ],
   "source": [
    "\"\"\"\n",
    "6. Membership Operators\n",
    "Used to test if a sequence contains an item:\n",
    "\"\"\"\n",
    "list1 = [1, 2, 3, 4, 5]\n",
    "print(3 in list1)      # True\n",
    "print(6 not in list1)  # True"
   ]
  },
  {
   "cell_type": "code",
   "execution_count": 15,
   "id": "9e2f85c4",
   "metadata": {},
   "outputs": [
    {
     "name": "stdout",
     "output_type": "stream",
     "text": [
      "True\n",
      "False\n",
      "True\n"
     ]
    }
   ],
   "source": [
    "\"\"\"\n",
    "7. Identity Operators\n",
    "Used to compare the memory locations of objects:\n",
    "\"\"\"\n",
    "x = [\"apple\", \"banana\"]\n",
    "y = [\"apple\", \"banana\"]\n",
    "z = x\n",
    "\n",
    "print(x is z)     # True (same object)\n",
    "print(x is y)     # False (different objects)\n",
    "print(x is not y) # True"
   ]
  },
  {
   "cell_type": "code",
   "execution_count": 16,
   "id": "40f52adc",
   "metadata": {},
   "outputs": [
    {
     "name": "stdout",
     "output_type": "stream",
     "text": [
      "124.23\n"
     ]
    }
   ],
   "source": [
    "# Question 5: Explain the concept of type casting in Python with examples\n",
    "\n",
    "\"\"\"\n",
    "Type casting, also known as type conversion, is the process of converting one data type into another.\n",
    "In Python, this can happen in two ways:\n",
    "1. Implicit Type Casting\n",
    "This is when Python automatically converts one data type to another without any user intervention.\n",
    "Python performs this to avoid data loss by converting lower data types to higher data types.\n",
    "\"\"\"\n",
    "# Example\n",
    "num_int = 123\n",
    "num_float = 1.23\n",
    "sum = num_int + num_float  # Python automatically converts int to float\n",
    "print(sum)  # Output: 124.23"
   ]
  },
  {
   "cell_type": "code",
   "execution_count": 27,
   "id": "386c4268",
   "metadata": {},
   "outputs": [
    {
     "name": "stdout",
     "output_type": "stream",
     "text": [
      "\n",
      "int() - converts to integer\n",
      "float() - converts to float\n",
      "str() - converts to string\n",
      "bool() - converts to boolean\n",
      "\n"
     ]
    }
   ],
   "source": [
    "\"\"\"\n",
    "2. Explicit Type Casting\n",
    "This is when type conversion is performed manually using predefined functions.\n",
    "Common type casting functions include:\n",
    "\"\"\"\n",
    "# Integer casting\n",
    "str_num = \"10\"\n",
    "int_num = int(str_num)    # Converting string to integer\n",
    "float_num = 3.14\n",
    "int_from_float = int(float_num)  # Converting float to integer\n",
    "\n",
    "# Float casting\n",
    "str_float = \"3.14\"\n",
    "float_num = float(str_float)    # Converting string to float\n",
    "int_num = 5\n",
    "float_from_int = float(int_num) # Converting integer to float\n",
    "\n",
    "# String casting\n",
    "num = 123\n",
    "str_num = str(num)    # Converting integer to string\n",
    "float_num = 3.14\n",
    "str_float = str(float_num)  # Converting float to string\n",
    "\n",
    "# Common type casting functions:\n",
    "type_conversions = \"\"\"\n",
    "int() - converts to integer\n",
    "float() - converts to float\n",
    "str() - converts to string\n",
    "bool() - converts to boolean\n",
    "\"\"\"\n",
    "\n",
    "print(type_conversions)\n",
    "\n"
   ]
  },
  {
   "cell_type": "code",
   "execution_count": 18,
   "id": "bfa2b01c",
   "metadata": {},
   "outputs": [
    {
     "name": "stdout",
     "output_type": "stream",
     "text": [
      "You are eligible to vote\n"
     ]
    }
   ],
   "source": [
    "# Question 6: How do conditional statements work in Python? Illustrate with examples ?\n",
    "\n",
    "\"\"\"\n",
    "Conditional statements in Python provide a choice for the control flow based on a condition .\n",
    "Here's how they work:\n",
    "\n",
    "1. if Statement\n",
    "The simplest form of conditional statement that executes a block of code only when the condition is true:\n",
    "\"\"\"\n",
    "age = 18\n",
    "if age >= 18:\n",
    "    print(\"You are eligible to vote\")"
   ]
  },
  {
   "cell_type": "code",
   "execution_count": 19,
   "id": "a721d3d2",
   "metadata": {},
   "outputs": [
    {
     "name": "stdout",
     "output_type": "stream",
     "text": [
      "Number is odd\n"
     ]
    }
   ],
   "source": [
    "\"\"\"\n",
    "2. if-else Statement\n",
    "Provides an alternative execution path when the condition is false:\n",
    "\"\"\"\n",
    "number = 5\n",
    "if number % 2 == 0:\n",
    "    print(\"Number is even\")\n",
    "else:\n",
    "    print(\"Number is odd\")"
   ]
  },
  {
   "cell_type": "code",
   "execution_count": 20,
   "id": "2468bca6",
   "metadata": {},
   "outputs": [
    {
     "name": "stdout",
     "output_type": "stream",
     "text": [
      "Grade: B\n"
     ]
    }
   ],
   "source": [
    "\"\"\"\n",
    "3. if-elif-else Statement\n",
    "Used for multiple conditions:\n",
    "\"\"\"\n",
    "score = 85\n",
    "if score >= 90:\n",
    "    print(\"Grade: A\")\n",
    "elif score >= 80:\n",
    "    print(\"Grade: B\")\n",
    "elif score >= 70:\n",
    "    print(\"Grade: C\")\n",
    "else:\n",
    "    print(\"Grade: F\")"
   ]
  },
  {
   "cell_type": "code",
   "execution_count": 21,
   "id": "073ca562",
   "metadata": {},
   "outputs": [
    {
     "name": "stdout",
     "output_type": "stream",
     "text": [
      "You can drive\n"
     ]
    }
   ],
   "source": [
    "\"\"\"\n",
    "Nested Conditional Statements\n",
    "You can place conditional statements inside other conditional statements:\n",
    "\"\"\"\n",
    "age = 25\n",
    "has_license = True\n",
    "\n",
    "if age >= 18:\n",
    "    if has_license:\n",
    "        print(\"You can drive\")\n",
    "    else:\n",
    "        print(\"You need a license\")\n",
    "else:\n",
    "    print(\"Too young to drive\")"
   ]
  },
  {
   "cell_type": "code",
   "execution_count": 22,
   "id": "3bb40190",
   "metadata": {},
   "outputs": [
    {
     "name": "stdout",
     "output_type": "stream",
     "text": [
      "\n",
      " * Python uses indentation to define code blocks.\n",
      "1) Conditions are executed in order from top to bottom.\n",
      "2) The elif and else statements are optional.\n",
      "3) Multiple conditions can be chained using logical operators.\n",
      "4) The condition must evaluate to either True or False.\n",
      "5) These conditional statements are essential for making decisions in your programs based on the values of variables or the result of comparisons.\n",
      "\n"
     ]
    }
   ],
   "source": [
    "info = \"\"\"\n",
    " * Python uses indentation to define code blocks.\n",
    "1) Conditions are executed in order from top to bottom.\n",
    "2) The elif and else statements are optional.\n",
    "3) Multiple conditions can be chained using logical operators.\n",
    "4) The condition must evaluate to either True or False.\n",
    "5) These conditional statements are essential for making decisions in your programs based on the values of variables or the result of comparisons.\n",
    "\"\"\"\n",
    "\n",
    "print(info)"
   ]
  },
  {
   "cell_type": "code",
   "execution_count": 23,
   "id": "2abf86df",
   "metadata": {},
   "outputs": [
    {
     "name": "stdout",
     "output_type": "stream",
     "text": [
      "apple\n",
      "banana\n",
      "cherry\n",
      "0\n",
      "1\n",
      "2\n",
      "3\n",
      "4\n",
      "P\n",
      "y\n",
      "t\n",
      "h\n",
      "o\n",
      "n\n"
     ]
    }
   ],
   "source": [
    "# Question 7: Describe the different types of loops in Python and their use cases with examples.\n",
    "\n",
    "\"\"\"\n",
    "Different types of loops in Python are:\n",
    "1. For Loops\n",
    "For loops in Python are used to iterate over sequences (like lists, tuples, strings, or dictionaries).\n",
    "They're particularly useful when you know the number of iterations needed.\n",
    "\"\"\"\n",
    "# Iterating over a list\n",
    "fruits = [\"apple\", \"banana\", \"cherry\"]\n",
    "for fruit in fruits:\n",
    "    print(fruit)\n",
    "\n",
    "# Using range()\n",
    "for i in range(5):\n",
    "    print(i)  # prints 0 to 4\n",
    "\n",
    "# Iterating over a string\n",
    "for char in \"Python\":\n",
    "    print(char)"
   ]
  },
  {
   "cell_type": "code",
   "execution_count": 24,
   "id": "b2764042",
   "metadata": {},
   "outputs": [
    {
     "name": "stdout",
     "output_type": "stream",
     "text": [
      "0\n",
      "1\n",
      "2\n",
      "3\n",
      "4\n",
      "Enter 'quit' to exit: quit\n"
     ]
    }
   ],
   "source": [
    "\"\"\"\n",
    "2. While Loops\n",
    "While loops continue executing as long as a condition remains True.\n",
    "They're useful when you don't know how many iterations will be needed.\n",
    "\"\"\"\n",
    "# Basic while loop\n",
    "count = 0\n",
    "while count < 5:\n",
    "    print(count)\n",
    "    count += 1\n",
    "\n",
    "# With break statement\n",
    "while True:\n",
    "    user_input = input(\"Enter 'quit' to exit: \")\n",
    "    if user_input == 'quit':\n",
    "        break"
   ]
  },
  {
   "cell_type": "code",
   "execution_count": 25,
   "id": "19d5c408",
   "metadata": {},
   "outputs": [
    {
     "name": "stdout",
     "output_type": "stream",
     "text": [
      "(0,0) (0,1) (0,2) \n",
      "(1,0) (1,1) (1,2) \n",
      "(2,0) (2,1) (2,2) \n"
     ]
    }
   ],
   "source": [
    "\"\"\"\n",
    "3. Nested Loops\n",
    "These are loops inside loops. They're useful for working with multi-dimensional data structures or when you need multiple levels of iteration.\n",
    "\"\"\"\n",
    "# Nested for loops\n",
    "for i in range(3):\n",
    "    for j in range(3):\n",
    "        print(f\"({i},{j})\", end=\" \")\n",
    "    print()  # new line after inner loop"
   ]
  },
  {
   "cell_type": "code",
   "execution_count": 26,
   "id": "02b6ba14",
   "metadata": {},
   "outputs": [
    {
     "name": "stdout",
     "output_type": "stream",
     "text": [
      "0\n",
      "1\n",
      "2\n",
      "4\n",
      "5\n",
      "6\n"
     ]
    }
   ],
   "source": [
    "\"\"\"\n",
    "* Loop Control Statements\n",
    "1) break: Exits the loop completely\n",
    "2) continue: Skips the rest of the current iteration\n",
    "\"\"\"\n",
    "# Using break and continue\n",
    "for num in range(10):\n",
    "    if num == 3:\n",
    "        continue  # skip 3\n",
    "    if num == 7:\n",
    "        break    # stop at 7\n",
    "    print(num)"
   ]
  },
  {
   "cell_type": "code",
   "execution_count": null,
   "id": "cd945752",
   "metadata": {},
   "outputs": [],
   "source": []
  }
 ],
 "metadata": {
  "kernelspec": {
   "display_name": "Python 3 (ipykernel)",
   "language": "python",
   "name": "python3"
  },
  "language_info": {
   "codemirror_mode": {
    "name": "ipython",
    "version": 3
   },
   "file_extension": ".py",
   "mimetype": "text/x-python",
   "name": "python",
   "nbconvert_exporter": "python",
   "pygments_lexer": "ipython3",
   "version": "3.11.5"
  }
 },
 "nbformat": 4,
 "nbformat_minor": 5
}
